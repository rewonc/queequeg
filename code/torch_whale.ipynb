{
 "metadata": {
  "language": "lua",
  "name": "",
  "signature": "sha256:4ed35950ec9577f22bb1e729a84fbe580f0faae0786a1155e5eab95524ef93a1"
 },
 "nbformat": 3,
 "nbformat_minor": 0,
 "worksheets": [
  {
   "cells": [
    {
     "cell_type": "code",
     "collapsed": false,
     "input": [
      "require 'hdf5'\n",
      "require 'nn'\n",
      "require 'image'\n",
      "require 'xlua'"
     ],
     "language": "python",
     "metadata": {},
     "outputs": [],
     "prompt_number": 1
    },
    {
     "cell_type": "code",
     "collapsed": false,
     "input": [
      "require \"fun\" ()"
     ],
     "language": "python",
     "metadata": {},
     "outputs": [
      {
       "metadata": {},
       "output_type": "pyout",
       "prompt_number": 2,
       "text": [
        "\n"
       ]
      }
     ],
     "prompt_number": 2
    },
    {
     "cell_type": "markdown",
     "metadata": {},
     "source": [
      "# Data processing (run once)"
     ]
    },
    {
     "cell_type": "code",
     "collapsed": false,
     "input": [
      "sys.ls('../imgs/processed/')"
     ],
     "language": "python",
     "metadata": {},
     "outputs": [
      {
       "metadata": {},
       "output_type": "pyout",
       "prompt_number": 3,
       "text": [
        "cropped_512x768_train_test.h5\n",
        "data.h5\n",
        "label0.npy\n",
        "label1.npy\n",
        "label2.npy\n",
        "label3.npy\n",
        "whale_data_provider.t7\t\n"
       ]
      }
     ],
     "prompt_number": 3
    },
    {
     "cell_type": "code",
     "collapsed": false,
     "input": [
      "whaleData = hdf5.open('../imgs/processed/cropped_512x768_train_test.h5', 'r')"
     ],
     "language": "python",
     "metadata": {},
     "outputs": [],
     "prompt_number": 4
    },
    {
     "cell_type": "code",
     "collapsed": false,
     "input": [
      "train_feats = whaleData:read('/train_feats'):all()\n",
      "train_labels = whaleData:read('/train_labels'):all()\n",
      "test_feats = whaleData:read('/test_feats'):all()\n",
      "test_labels = whaleData:read('/test_labels'):all()"
     ],
     "language": "python",
     "metadata": {},
     "outputs": [],
     "prompt_number": 5
    },
    {
     "cell_type": "code",
     "collapsed": false,
     "input": [
      "whaleData:close()"
     ],
     "language": "python",
     "metadata": {},
     "outputs": [
      {
       "metadata": {},
       "output_type": "pyout",
       "prompt_number": 6,
       "text": [
        "\n"
       ]
      }
     ],
     "prompt_number": 6
    },
    {
     "cell_type": "code",
     "collapsed": false,
     "input": [
      "function normalize_data(train, test)\n",
      "    -- take in an image volume with format: \n",
      "    --    NImages, x, y, channels\n",
      "    -- Return a globally ZMUV normalized image volume w/ format:\n",
      "    --    NImages, channels, x, y\n",
      "    local tr = train:transpose(2, 4):double()\n",
      "    local mean_y = torch.mean(tr:select(2, 1))\n",
      "    local std_y = tr:select(2, 1):std()\n",
      "    local mean_u = tr:select(2, 2):mean()\n",
      "    local std_u = tr:select(2, 2):std()\n",
      "    local mean_v = tr:select(2, 3):mean()\n",
      "    local std_v = tr:select(2, 3):std()\n",
      "    tr:select(2, 1):add(-mean_y)\n",
      "    tr:select(2, 1):div(std_y)\n",
      "    tr:select(2, 2):add(-mean_u)\n",
      "    tr:select(2, 2):div(std_u)\n",
      "    tr:select(2, 3):add(-mean_v)\n",
      "    tr:select(2, 3):div(std_v)    \n",
      "    local te = test:transpose(2, 4):double()\n",
      "    te:select(2, 1):add(-mean_y)\n",
      "    te:select(2, 1):div(std_y)\n",
      "    te:select(2, 2):add(-mean_u)\n",
      "    te:select(2, 2):div(std_u)\n",
      "    te:select(2, 3):add(-mean_v)\n",
      "    te:select(2, 3):div(std_v)\n",
      "    return tr, te\n",
      "end"
     ],
     "language": "python",
     "metadata": {},
     "outputs": [],
     "prompt_number": 7
    },
    {
     "cell_type": "code",
     "collapsed": false,
     "input": [
      "train, test = normalize_data(train_feats, test_feats)"
     ],
     "language": "python",
     "metadata": {},
     "outputs": [],
     "prompt_number": 8
    },
    {
     "cell_type": "code",
     "collapsed": false,
     "input": [
      "local trsize = train:size()[1]\n",
      "local tesize = test:size()[1]\n",
      "\n",
      "dataProvider = {\n",
      "    trainData = {\n",
      "        data = train,\n",
      "        labels = train_labels:double(),\n",
      "        size = function () return trsize end\n",
      "    },\n",
      "    testData = {\n",
      "        data = test,\n",
      "        labels = test_labels:double(),\n",
      "        size = function () return tesize end\n",
      "    }\n",
      "}"
     ],
     "language": "python",
     "metadata": {},
     "outputs": [],
     "prompt_number": 9
    },
    {
     "cell_type": "code",
     "collapsed": false,
     "input": [
      "torch.save(\"../imgs/processed/whale_data_provider.t7\", dataProvider)"
     ],
     "language": "python",
     "metadata": {},
     "outputs": [
      {
       "metadata": {},
       "output_type": "pyout",
       "prompt_number": 10,
       "text": [
        "\n"
       ]
      }
     ],
     "prompt_number": 10
    },
    {
     "cell_type": "markdown",
     "metadata": {},
     "source": [
      "# Net definition"
     ]
    },
    {
     "cell_type": "code",
     "collapsed": false,
     "input": [
      "provider = torch.load(\"../imgs/processed/whale_data_provider.t7\")"
     ],
     "language": "python",
     "metadata": {},
     "outputs": [],
     "prompt_number": 11
    },
    {
     "cell_type": "code",
     "collapsed": false,
     "input": [
      "provider.testData.size()"
     ],
     "language": "python",
     "metadata": {},
     "outputs": [
      {
       "metadata": {},
       "output_type": "pyout",
       "prompt_number": 14,
       "text": [
        "909\t\n"
       ]
      }
     ],
     "prompt_number": 14
    },
    {
     "cell_type": "code",
     "collapsed": false,
     "input": [
      "provider.testData.data:size()"
     ],
     "language": "python",
     "metadata": {},
     "outputs": [
      {
       "metadata": {},
       "output_type": "pyout",
       "prompt_number": 15,
       "text": [
        "\n",
        " 909\n",
        "   3\n",
        " 768\n",
        " 512\n",
        "[torch.LongStorage of size 4]\n",
        "\n"
       ]
      }
     ],
     "prompt_number": 15
    },
    {
     "cell_type": "code",
     "collapsed": false,
     "input": [],
     "language": "python",
     "metadata": {},
     "outputs": []
    }
   ],
   "metadata": {}
  }
 ]
}